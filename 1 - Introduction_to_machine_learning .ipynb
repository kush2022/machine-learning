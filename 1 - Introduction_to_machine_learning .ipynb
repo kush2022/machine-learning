{
 "cells": [
  {
   "cell_type": "markdown",
   "id": "9bf23061",
   "metadata": {},
   "source": [
    "## Machine learning \n",
    "- is a subfield of arificial intelligence that focuses on the development of algorithms and models that enables computers to learn and make predictions or decisions without being explicity programmed.\n",
    "\n",
    "> There are several types of machine learning algorithms\n",
    "1. Supervised learning. In this type of learning, the algorithm is trained on labeled data, where the input is associated with corresponding output labels. \n",
    "2. Unsupervised Learning. These are trained on unlabeled data, meaning there are no prediction output labels.\n",
    "3. Reinforcement learning. This is type of learning involves an agent interacting with an enviroment and learning through trial and error. \n"
   ]
  },
  {
   "cell_type": "markdown",
   "id": "3bf872de",
   "metadata": {},
   "source": [
    "## How does supervised machine learning work?\n",
    "> Supervised machine learning required the data scientist to train the algorithm with both labeled inputs and desired output. Supervised learning algorithms are good for the following tasks:\n",
    "1. Binary classification- diving the data into two categories \n",
    "2. Multi-class classification - choosing between more than two types of answers.\n",
    "3. Regression modelling- predicting continuous values.\n",
    "4. Ensambling- combining the predictions of multiple machine learning models to produce an accurate prediction"
   ]
  },
  {
   "cell_type": "code",
   "execution_count": null,
   "id": "0b905336",
   "metadata": {},
   "outputs": [],
   "source": []
  }
 ],
 "metadata": {
  "kernelspec": {
   "display_name": "Python 3 (ipykernel)",
   "language": "python",
   "name": "python3"
  },
  "language_info": {
   "codemirror_mode": {
    "name": "ipython",
    "version": 3
   },
   "file_extension": ".py",
   "mimetype": "text/x-python",
   "name": "python",
   "nbconvert_exporter": "python",
   "pygments_lexer": "ipython3",
   "version": "3.11.3"
  }
 },
 "nbformat": 4,
 "nbformat_minor": 5
}
